{
 "cells": [
  {
   "cell_type": "markdown",
   "metadata": {},
   "source": [
    "numpy=1.15.4\n",
    "keras = 2.2.4\n",
    "tensorFlow = 1.12.0 "
   ]
  },
  {
   "cell_type": "code",
   "execution_count": 11,
   "metadata": {},
   "outputs": [
    {
     "name": "stdout",
     "output_type": "stream",
     "text": [
      "Epoch:  0\n",
      "Epoch:  1\n",
      "Epoch:  2\n",
      "Epoch:  3\n",
      "Epoch:  4\n",
      "Epoch:  5\n",
      "Epoch:  6\n",
      "Epoch:  7\n",
      "Epoch:  8\n",
      "Epoch:  9\n",
      "Accuracy 0.977\n"
     ]
    }
   ],
   "source": [
    "import numpy as np\n",
    "import tensorflow as tf\n",
    "import pandas as pd\n",
    "from keras.utils import np_utils\n",
    "from keras.datasets import mnist\n",
    "\n",
    "(x_train, y_train), (x_test, y_test) = mnist.load_data()\n",
    "\n",
    "y_train = np_utils.to_categorical(y_train)\n",
    "y_test = np_utils.to_categorical(y_test)\n",
    "\n",
    "x_train = x_train.astype('float32')/255.\n",
    "x_test = x_test.astype('float32')/255.\n",
    "\n",
    "x_train = x_train.reshape((-1, 784))\n",
    "x_test = x_test.reshape((-1, 784))\n",
    "\n",
    "N, M = x_train.shape\n",
    "O = 1024\n",
    "P = 256\n",
    "T = 10\n",
    "batch_size = 100\n",
    "learning_rate = 0.001\n",
    "training_epochs = 10\n",
    "\n",
    "inp = tf.placeholder(shape=(None, M), dtype=tf.float32)\n",
    "out = tf.placeholder(shape=(None, T), dtype=tf.float32)\n",
    "\n",
    "weights1 = tf.Variable(tf.truncated_normal([M, O], stddev=np.sqrt(1/M)))\n",
    "bias1 = tf.Variable(tf.ones([O])/O)\n",
    "layer1 = tf.nn.relu(tf.matmul(inp, weights1) + bias1)\n",
    "\n",
    "weights2 = tf.Variable(tf.truncated_normal([O, P], stddev=np.sqrt(1/O)))\n",
    "bias2 = tf.Variable(tf.ones([P])/P)\n",
    "layer2 = tf.nn.relu(tf.matmul(layer1, weights2) + bias2)\n",
    "\n",
    "weights_output = tf.Variable(tf.truncated_normal([P, T], stddev=np.sqrt(1/P)))\n",
    "bias_output = tf.Variable(tf.ones([T])/T)\n",
    "evidence = tf.matmul(layer2, weights_output) + bias_output\n",
    "output = tf.nn.softmax(evidence)\n",
    "\n",
    "cross_entropy = tf.nn.softmax_cross_entropy_with_logits_v2(logits=evidence, labels= out)\n",
    "cross_entropy = tf.reduce_mean(cross_entropy)\n",
    "\n",
    "train_step = tf.train.RMSPropOptimizer(learning_rate).minimize(cross_entropy)\n",
    "\n",
    "correct_prediction = tf.equal(tf.argmax(output, 1), tf.argmax(out, 1))\n",
    "accuracy = tf.reduce_mean(tf.cast(correct_prediction, tf.float32))\n",
    "\n",
    "tf.summary.scalar(\"Cost\", cross_entropy)\n",
    "tf.summary.scalar(\"Accuracy\", accuracy)\n",
    "summary_op = tf.summary.merge_all()\n",
    "\n",
    "with tf.Session() as sess:\n",
    "        sess.run(tf.global_variables_initializer())\n",
    "        for epoch in range(training_epochs):\n",
    "            print(\"Epoch: \", epoch)\n",
    "            batch_count = int(N/batch_size)\n",
    "            for i in range(batch_count):\n",
    "                start, finish = batch_size*i, batch_size*(i+1)\n",
    "                batch_x, batch_y = x_train[start:finish, :], y_train[start:finish, :]\n",
    "                d = {inp: batch_x, out: batch_y}\n",
    "                _, summary = sess.run([train_step, summary_op], feed_dict=d)\n",
    "        print(\"Accuracy\", accuracy.eval(feed_dict={inp: x_test, out: y_test}))"
   ]
  },
  {
   "cell_type": "code",
   "execution_count": 6,
   "metadata": {},
   "outputs": [
    {
     "name": "stderr",
     "output_type": "stream",
     "text": [
      "Using TensorFlow backend.\n"
     ]
    },
    {
     "name": "stdout",
     "output_type": "stream",
     "text": [
      "Epoch 1/10\n",
      "60000/60000 [==============================] - 15s 258us/step - loss: 0.2771 - acc: 0.9202\n",
      "Epoch 2/10\n",
      "60000/60000 [==============================] - 14s 237us/step - loss: 0.1213 - acc: 0.9651\n",
      "Epoch 3/10\n",
      "60000/60000 [==============================] - 13s 211us/step - loss: 0.0810 - acc: 0.9762\n",
      "Epoch 4/10\n",
      "60000/60000 [==============================] - 11s 186us/step - loss: 0.0615 - acc: 0.9814\n",
      "Epoch 5/10\n",
      "60000/60000 [==============================] - 11s 182us/step - loss: 0.0483 - acc: 0.9857\n",
      "Epoch 6/10\n",
      "60000/60000 [==============================] - 13s 216us/step - loss: 0.0386 - acc: 0.9886\n",
      "Epoch 7/10\n",
      "60000/60000 [==============================] - 15s 248us/step - loss: 0.0322 - acc: 0.9904\n",
      "Epoch 8/10\n",
      "60000/60000 [==============================] - 17s 281us/step - loss: 0.0250 - acc: 0.9931\n",
      "Epoch 9/10\n",
      "60000/60000 [==============================] - 22s 360us/step - loss: 0.0208 - acc: 0.9941\n",
      "Epoch 10/10\n",
      "60000/60000 [==============================] - 23s 386us/step - loss: 0.0172 - acc: 0.9952\n",
      "10000/10000 [==============================] - 2s 241us/step\n",
      "[0.0750405036452321, 0.9803000068664551]\n"
     ]
    }
   ],
   "source": [
    "import numpy as np\n",
    "import tensorflow as tf\n",
    "\n",
    "from keras.utils import np_utils\n",
    "from keras.datasets import mnist\n",
    "from keras.models import Sequential\n",
    "from keras.layers import Dense\n",
    "\n",
    "(x_train, y_train), (x_test, y_test) = mnist.load_data()\n",
    "\n",
    "y_train = np_utils.to_categorical(y_train)\n",
    "y_test = np_utils.to_categorical(y_test)\n",
    "\n",
    "x_train = x_train.astype('float32')/255.\n",
    "x_test = x_test.astype('float32')/255.\n",
    "\n",
    "x_train = x_train.reshape((-1, 784))\n",
    "x_test = x_test.reshape((-1, 784))\n",
    "\n",
    "N, M = x_train.shape\n",
    "O = 1024\n",
    "P = 256\n",
    "T = 10\n",
    "batch_size = 100\n",
    "learning_rate = 0.001\n",
    "training_epochs = 10\n",
    "\n",
    "model = Sequential()\n",
    "model.add(Dense(P, activation='relu'))\n",
    "model.add(Dense(T, activation='softmax'))\n",
    "model.compile(optimizer='rmsprop', loss='categorical_crossentropy', metrics=['accuracy'])\n",
    "model.fit(x_train, y_train, epochs=training_epochs, batch_size=batch_size)\n",
    "score = model.evaluate(x_test, y_test, batch_size=batch_size)\n",
    "print(score)"
   ]
  },
  {
   "cell_type": "code",
   "execution_count": null,
   "metadata": {},
   "outputs": [],
   "source": []
  }
 ],
 "metadata": {
  "kernelspec": {
   "display_name": "Python 3",
   "language": "python",
   "name": "python3"
  },
  "language_info": {
   "codemirror_mode": {
    "name": "ipython",
    "version": 3
   },
   "file_extension": ".py",
   "mimetype": "text/x-python",
   "name": "python",
   "nbconvert_exporter": "python",
   "pygments_lexer": "ipython3",
   "version": "3.6.7"
  }
 },
 "nbformat": 4,
 "nbformat_minor": 2
}
