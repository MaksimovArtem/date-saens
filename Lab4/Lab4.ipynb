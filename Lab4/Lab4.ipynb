{
 "cells": [
  {
   "cell_type": "markdown",
   "metadata": {},
   "source": [
    "## Лабораторная работа №4\n",
    "## Выполнили Смирнов Егор и Максимов Артем"
   ]
  },
  {
   "cell_type": "markdown",
   "metadata": {},
   "source": [
    "В данной работе мы построили регрессию для 2 датасетов и поработали с параметрами для этой регрессии.\n",
    "\n",
    "Вначале мы поработали с датасетом о работе электростанции:"
   ]
  },
  {
   "cell_type": "code",
   "execution_count": 2,
   "metadata": {},
   "outputs": [],
   "source": [
    "import numpy as np\n",
    "from sklearn.linear_model import LinearRegression, Ridge, Lasso\n",
    "from sklearn.preprocessing import PolynomialFeatures\n",
    "import matplotlib.pyplot as plt\n",
    "from sklearn.model_selection import train_test_split\n",
    "from sklearn.preprocessing import StandardScaler\n",
    "import warnings\n",
    "warnings.filterwarnings('ignore')"
   ]
  },
  {
   "cell_type": "markdown",
   "metadata": {},
   "source": [
    "Первым делом мы вывели общую информацию о сете, чтобы получить первое представление о данных, с которыми нам надо работать."
   ]
  },
  {
   "cell_type": "code",
   "execution_count": 3,
   "metadata": {},
   "outputs": [
    {
     "data": {
      "text/html": [
       "<div>\n",
       "<style scoped>\n",
       "    .dataframe tbody tr th:only-of-type {\n",
       "        vertical-align: middle;\n",
       "    }\n",
       "\n",
       "    .dataframe tbody tr th {\n",
       "        vertical-align: top;\n",
       "    }\n",
       "\n",
       "    .dataframe thead th {\n",
       "        text-align: right;\n",
       "    }\n",
       "</style>\n",
       "<table border=\"1\" class=\"dataframe\">\n",
       "  <thead>\n",
       "    <tr style=\"text-align: right;\">\n",
       "      <th></th>\n",
       "      <th>AT</th>\n",
       "      <th>V</th>\n",
       "      <th>AP</th>\n",
       "      <th>RH</th>\n",
       "      <th>PE</th>\n",
       "    </tr>\n",
       "  </thead>\n",
       "  <tbody>\n",
       "    <tr>\n",
       "      <th>count</th>\n",
       "      <td>9568.000000</td>\n",
       "      <td>9568.000000</td>\n",
       "      <td>9568.000000</td>\n",
       "      <td>9568.000000</td>\n",
       "      <td>9568.000000</td>\n",
       "    </tr>\n",
       "    <tr>\n",
       "      <th>mean</th>\n",
       "      <td>19.651231</td>\n",
       "      <td>54.305804</td>\n",
       "      <td>1013.259078</td>\n",
       "      <td>73.308978</td>\n",
       "      <td>454.365009</td>\n",
       "    </tr>\n",
       "    <tr>\n",
       "      <th>std</th>\n",
       "      <td>7.452473</td>\n",
       "      <td>12.707893</td>\n",
       "      <td>5.938784</td>\n",
       "      <td>14.600269</td>\n",
       "      <td>17.066995</td>\n",
       "    </tr>\n",
       "    <tr>\n",
       "      <th>min</th>\n",
       "      <td>1.810000</td>\n",
       "      <td>25.360000</td>\n",
       "      <td>992.890000</td>\n",
       "      <td>25.560000</td>\n",
       "      <td>420.260000</td>\n",
       "    </tr>\n",
       "    <tr>\n",
       "      <th>25%</th>\n",
       "      <td>13.510000</td>\n",
       "      <td>41.740000</td>\n",
       "      <td>1009.100000</td>\n",
       "      <td>63.327500</td>\n",
       "      <td>439.750000</td>\n",
       "    </tr>\n",
       "    <tr>\n",
       "      <th>50%</th>\n",
       "      <td>20.345000</td>\n",
       "      <td>52.080000</td>\n",
       "      <td>1012.940000</td>\n",
       "      <td>74.975000</td>\n",
       "      <td>451.550000</td>\n",
       "    </tr>\n",
       "    <tr>\n",
       "      <th>75%</th>\n",
       "      <td>25.720000</td>\n",
       "      <td>66.540000</td>\n",
       "      <td>1017.260000</td>\n",
       "      <td>84.830000</td>\n",
       "      <td>468.430000</td>\n",
       "    </tr>\n",
       "    <tr>\n",
       "      <th>max</th>\n",
       "      <td>37.110000</td>\n",
       "      <td>81.560000</td>\n",
       "      <td>1033.300000</td>\n",
       "      <td>100.160000</td>\n",
       "      <td>495.760000</td>\n",
       "    </tr>\n",
       "  </tbody>\n",
       "</table>\n",
       "</div>"
      ],
      "text/plain": [
       "                AT            V           AP           RH           PE\n",
       "count  9568.000000  9568.000000  9568.000000  9568.000000  9568.000000\n",
       "mean     19.651231    54.305804  1013.259078    73.308978   454.365009\n",
       "std       7.452473    12.707893     5.938784    14.600269    17.066995\n",
       "min       1.810000    25.360000   992.890000    25.560000   420.260000\n",
       "25%      13.510000    41.740000  1009.100000    63.327500   439.750000\n",
       "50%      20.345000    52.080000  1012.940000    74.975000   451.550000\n",
       "75%      25.720000    66.540000  1017.260000    84.830000   468.430000\n",
       "max      37.110000    81.560000  1033.300000   100.160000   495.760000"
      ]
     },
     "execution_count": 3,
     "metadata": {},
     "output_type": "execute_result"
    }
   ],
   "source": [
    "import pandas as pd\n",
    "ElectricityRaw = pd.read_csv('electricity.csv')\n",
    "ElectricityRaw.describe()"
   ]
  },
  {
   "cell_type": "markdown",
   "metadata": {},
   "source": [
    "Нашей задачей было научиться предугадывать 5й столбец сета, по значениям первых 4. Это мы реализовали следующим образом:"
   ]
  },
  {
   "cell_type": "code",
   "execution_count": 5,
   "metadata": {},
   "outputs": [
    {
     "name": "stdout",
     "output_type": "stream",
     "text": [
      "LinearRegression\n",
      "(0.9271761736761966, array([ 0.        , -0.87399469, -0.17018652,  0.01738785, -0.13749932]), 0.0001433037182601378) \n",
      "\n",
      "Ridge\n",
      "alpha =  44.701184493300836 0.9273537552614651 [array([ 0.        , -0.84242055, -0.1890786 ,  0.0241295 , -0.12605113]), 0.0001524858649941896] \n",
      "\n"
     ]
    },
    {
     "data": {
      "image/png": "[encoded data removed]",
      "text/plain": [
       "<Figure size 432x288 with 1 Axes>"
      ]
     },
     "metadata": {
      "needs_background": "light"
     },
     "output_type": "display_data"
    },
    {
     "name": "stdout",
     "output_type": "stream",
     "text": [
      "Lasso\n",
      "alpha =  0.003294468075283748 0.9272158317475679 [array([ 0.        , -0.86518266, -0.17217323,  0.01689544, -0.13001039]), 0.0001307605082710347] \n",
      "\n"
     ]
    },
    {
     "data": {
      "image/png": "[encoded data removed]",
      "text/plain": [
       "<Figure size 432x288 with 1 Axes>"
      ]
     },
     "metadata": {
      "needs_background": "light"
     },
     "output_type": "display_data"
    }
   ],
   "source": [
    "def analyse(DataSet, deg, ridge, lasso):\n",
    "    scaler = StandardScaler(copy = False)\n",
    "    scaler.fit_transform(DataSet)\n",
    "\n",
    "    Data = DataSet[:, 0:-1]\n",
    "    Predict = DataSet[:, -1]\n",
    "\n",
    "    pol = PolynomialFeatures(degree = deg)\n",
    "    Data = pol.fit_transform(Data)\n",
    "\n",
    "    X_train, X_test, Y_train, Y_test = train_test_split(Data, Predict, test_size=0.33, random_state=42)\n",
    "\n",
    "\n",
    "    def helper(model):\n",
    "        model.fit(X_train, Y_train) #обучить модель\n",
    "        return (model.score(X_test, Y_test), model.coef_, model.intercept_)\n",
    "\n",
    "    def check(model, a0=None, a1=None):\n",
    "        print(type(model).__name__)\n",
    "        if (a0 == None):\n",
    "            print(helper(model), '\\n')\n",
    "            return\n",
    "\n",
    "        x = np.exp(np.arange(np.log(a0), np.log(a1), step=0.1))\n",
    "        y = []\n",
    "        z = []\n",
    "\n",
    "        for a in x:\n",
    "            model.__init__(a)\n",
    "            t = helper(model)\n",
    "            y.append(t[0])\n",
    "            z.append([t[1], t[2]])\n",
    "            \n",
    "        imax = np.argmax(y)\n",
    "        print('alpha = ', x[imax], y[imax], z[imax], '\\n')\n",
    "\n",
    "        plt.plot(x, y)\n",
    "        plt.show()\n",
    "\n",
    "    check(LinearRegression(normalize = True))\n",
    "    check(Ridge(), ridge[0], ridge[1])\n",
    "    check(Lasso(), lasso[0], lasso[1])\n",
    "    \n",
    "analyse(DataSet = ElectricityRaw.values, deg = 1, ridge = [1, 400_000], lasso = [0.000001, 2.5])"
   ]
  },
  {
   "cell_type": "markdown",
   "metadata": {},
   "source": [
    "### Часть 1. Линейная регрессия\n",
    "\n",
    "Полученный R<sup>2</sup>-score равен 0.92, что является отличным результатом. \n",
    "\n",
    "Коэффициенты, выведенные работой регрессии, равны: -0.87, -0.17,  0.017, -0.14 для T, AP, RH, V соответственно, где:\n",
    "        \n",
    "- T - Temperature\n",
    "- AP - Ambient Pressure\n",
    "- RH - Relative Humidity\n",
    "- V - Exhaust Vacuum\n",
    "\n",
    "Исходя из знаков при коэффициентах видно, что только значение относительной влажности(RH) положительно влияет на количество вырабатываемого электричества в час(PE). Однако его вклад в общую картину чрезвычайно мал(значение коэффициента лишь |0.017|, когда у других признаков минимум |0.14|) Оставшиеся же признаки направлены в обратную сторону. Самым важным признаком согласно полученным результатам является температура воды. Похоже, чем она ниже, тем больше вырабатывается электричества.\n",
    "\n",
    "### Часть 2. Ridge регрессия\n",
    "\n",
    "Значение R<sup>2</sup>-score при alpha = 100, как просилось в задании, равно 0.92 и отличается от значения R<sup>2</sup>-score меньше чем на 0.001. \n",
    "\n",
    "Коэффициенты: -0.80, -0.21,  0.032, -0.11 для T, AP, RH, V соответственно. Результат похож на значение, выданное линейной регрессией.\n",
    "\n",
    "Лучший из полученных нами R<sup>2</sup>-score равен 0.92 при параметре alpha = 44.7. Это лучше чем результат линейной регрессии на 0.002, что говорит о небольшом приросте точности.\n",
    "\n",
    "Коэффициенты, которые выдала регрессия при таком значении alpha, такие: -0.84, -0.19 ,  0.024 , -0.13 для T, AP, RH, V соответственно. Они почти не отличаются от кофиициентов, выведенных линейной регрессией, что лишь подтверждает правильность проделанной работы. Закономерности те же самые, что и в Части 1.\n",
    "\n",
    "\n",
    "### Часть 3. Lasso регрессия\n",
    "\n",
    "Значение R<sup>2</sup>-score при alpha = 10, как просилось в задании, равно -9.45e-08 что так же является хорошим значением(идеаальное значение это |1|)\n",
    "\n",
    "Коэффициенты: <bold>X1, X2, X3, X4</bold> для T, AP, RH, V соответственно. Результут снова не сильно отличается. \n",
    "    \n",
    "Лучший из полученных нами R<sup>2</sup>-score равен 0.93 при параметре alpha = 0.003. Это лучше чем результат линейной регрессии на 0.1, что говорит о достаточном(относительно предыдущих случаев) приросте точности.\n",
    "\n",
    "Коэффициенты, которые выдала регрессия при таком значении alpha, такие: -0.87, -0.17,  0.017, -0.13 для T, AP, RH, V соответственно. Коэффициенты в очередной раз почти не отличаются...\n",
    "![Альтернативный текст](ResidentSleeper.jpg)\n"
   ]
  },
  {
   "cell_type": "markdown",
   "metadata": {},
   "source": [
    "Дальше мы поработали со 2м датасетом."
   ]
  },
  {
   "cell_type": "code",
   "execution_count": 9,
   "metadata": {},
   "outputs": [
    {
     "data": {
      "text/html": [
       "<div>\n",
       "<style scoped>\n",
       "    .dataframe tbody tr th:only-of-type {\n",
       "        vertical-align: middle;\n",
       "    }\n",
       "\n",
       "    .dataframe tbody tr th {\n",
       "        vertical-align: top;\n",
       "    }\n",
       "\n",
       "    .dataframe thead th {\n",
       "        text-align: right;\n",
       "    }\n",
       "</style>\n",
       "<table border=\"1\" class=\"dataframe\">\n",
       "  <thead>\n",
       "    <tr style=\"text-align: right;\">\n",
       "      <th></th>\n",
       "      <th>Frequency</th>\n",
       "      <th>Angle</th>\n",
       "      <th>Length</th>\n",
       "      <th>Velocity</th>\n",
       "      <th>Thickness</th>\n",
       "      <th>Pressure</th>\n",
       "    </tr>\n",
       "  </thead>\n",
       "  <tbody>\n",
       "    <tr>\n",
       "      <th>count</th>\n",
       "      <td>1503.000000</td>\n",
       "      <td>1503.000000</td>\n",
       "      <td>1503.000000</td>\n",
       "      <td>1503.000000</td>\n",
       "      <td>1503.000000</td>\n",
       "      <td>1503.000000</td>\n",
       "    </tr>\n",
       "    <tr>\n",
       "      <th>mean</th>\n",
       "      <td>2886.380572</td>\n",
       "      <td>6.782302</td>\n",
       "      <td>0.136548</td>\n",
       "      <td>50.860745</td>\n",
       "      <td>0.011140</td>\n",
       "      <td>124.835943</td>\n",
       "    </tr>\n",
       "    <tr>\n",
       "      <th>std</th>\n",
       "      <td>3152.573137</td>\n",
       "      <td>5.918128</td>\n",
       "      <td>0.093541</td>\n",
       "      <td>15.572784</td>\n",
       "      <td>0.013150</td>\n",
       "      <td>6.898657</td>\n",
       "    </tr>\n",
       "    <tr>\n",
       "      <th>min</th>\n",
       "      <td>200.000000</td>\n",
       "      <td>0.000000</td>\n",
       "      <td>0.025400</td>\n",
       "      <td>31.700000</td>\n",
       "      <td>0.000401</td>\n",
       "      <td>103.380000</td>\n",
       "    </tr>\n",
       "    <tr>\n",
       "      <th>25%</th>\n",
       "      <td>800.000000</td>\n",
       "      <td>2.000000</td>\n",
       "      <td>0.050800</td>\n",
       "      <td>39.600000</td>\n",
       "      <td>0.002535</td>\n",
       "      <td>120.191000</td>\n",
       "    </tr>\n",
       "    <tr>\n",
       "      <th>50%</th>\n",
       "      <td>1600.000000</td>\n",
       "      <td>5.400000</td>\n",
       "      <td>0.101600</td>\n",
       "      <td>39.600000</td>\n",
       "      <td>0.004957</td>\n",
       "      <td>125.721000</td>\n",
       "    </tr>\n",
       "    <tr>\n",
       "      <th>75%</th>\n",
       "      <td>4000.000000</td>\n",
       "      <td>9.900000</td>\n",
       "      <td>0.228600</td>\n",
       "      <td>71.300000</td>\n",
       "      <td>0.015576</td>\n",
       "      <td>129.995500</td>\n",
       "    </tr>\n",
       "    <tr>\n",
       "      <th>max</th>\n",
       "      <td>20000.000000</td>\n",
       "      <td>22.200000</td>\n",
       "      <td>0.304800</td>\n",
       "      <td>71.300000</td>\n",
       "      <td>0.058411</td>\n",
       "      <td>140.987000</td>\n",
       "    </tr>\n",
       "  </tbody>\n",
       "</table>\n",
       "</div>"
      ],
      "text/plain": [
       "          Frequency        Angle       Length     Velocity    Thickness  \\\n",
       "count   1503.000000  1503.000000  1503.000000  1503.000000  1503.000000   \n",
       "mean    2886.380572     6.782302     0.136548    50.860745     0.011140   \n",
       "std     3152.573137     5.918128     0.093541    15.572784     0.013150   \n",
       "min      200.000000     0.000000     0.025400    31.700000     0.000401   \n",
       "25%      800.000000     2.000000     0.050800    39.600000     0.002535   \n",
       "50%     1600.000000     5.400000     0.101600    39.600000     0.004957   \n",
       "75%     4000.000000     9.900000     0.228600    71.300000     0.015576   \n",
       "max    20000.000000    22.200000     0.304800    71.300000     0.058411   \n",
       "\n",
       "          Pressure  \n",
       "count  1503.000000  \n",
       "mean    124.835943  \n",
       "std       6.898657  \n",
       "min     103.380000  \n",
       "25%     120.191000  \n",
       "50%     125.721000  \n",
       "75%     129.995500  \n",
       "max     140.987000  "
      ]
     },
     "execution_count": 9,
     "metadata": {},
     "output_type": "execute_result"
    }
   ],
   "source": [
    "SoundRaw = pd.read_csv('sound.csv', header=None, names=['Frequency', 'Angle', 'Length', 'Velocity', 'Thickness', 'Pressure'])\n",
    "SoundRaw.describe()"
   ]
  },
  {
   "cell_type": "code",
   "execution_count": 10,
   "metadata": {},
   "outputs": [
    {
     "name": "stdout",
     "output_type": "stream",
     "text": [
      "LinearRegression\n",
      "(0.8121992998304934, array([-3.06759058e-10, -1.65365987e+00, -1.76119892e+01, -2.53683915e+00,\n",
      "        2.02104532e+11,  1.45206684e+01,  2.57922244e-01, -1.17329223e+00,\n",
      "        4.10214145e-01,  4.82593674e-02,  2.46274975e-01,  8.82299771e+00,\n",
      "       -1.23187378e+01, -9.16204790e-01, -3.58014910e+01, -2.66721129e+00,\n",
      "        5.66102214e-01,  6.45206668e+00,  5.63327008e+11,  1.67263100e+00,\n",
      "        1.30941127e+01,  3.09216046e-01, -1.78327412e-01,  8.32901067e-01,\n",
      "       -1.07987495e-01,  1.44503844e+00, -1.87155289e+00, -3.59086980e+00,\n",
      "        1.41911064e-01,  2.24269288e+00, -2.99633148e-01,  9.83650447e-02,\n",
      "        3.16751584e+00, -3.38040583e-02, -1.32698899e-01, -2.40175537e-01,\n",
      "       -1.16637432e+00,  1.97381460e+01, -1.14777717e+00,  1.49144425e+01,\n",
      "        1.10788802e+01, -2.42380681e+00, -4.62735323e+01,  8.44946078e-01,\n",
      "        1.20248744e+00, -1.74638227e+01,  2.47927032e+00, -5.46891049e-01,\n",
      "       -9.58667042e+00,  3.67994860e-01,  2.60571368e+00,  1.84278924e+01,\n",
      "       -1.03586322e+11, -1.16343865e+00, -1.04934827e+00,  1.37597631e+00,\n",
      "       -3.21508935e-02,  1.54865390e-02, -6.42542116e-02,  1.90180878e-02,\n",
      "        1.04378771e-02, -1.59962947e-01, -1.71100975e-01, -1.51018776e-02,\n",
      "        4.61088230e-01, -1.46052319e-01,  1.87794536e-02,  8.89381180e-01,\n",
      "       -1.03967066e-02, -4.04959006e-02, -5.01290810e-01,  6.72268537e-01,\n",
      "        6.56779603e-01, -1.51415234e-01, -3.02234663e+00,  5.34482224e-01,\n",
      "       -2.24698749e-01, -4.86129302e+00,  6.40055463e-02,  5.20525555e-01,\n",
      "        1.74088180e+00, -1.61571046e-01, -3.05512216e-04, -1.43043909e+00,\n",
      "        4.03366432e-02,  3.99635216e-01,  1.24361050e+00,  1.78519075e-02,\n",
      "       -6.32444356e-02, -2.18834537e-01, -3.60502625e-01,  3.05967815e+00,\n",
      "       -2.06969803e+00, -2.15534579e-01, -5.76652251e+00,  4.17890053e-01,\n",
      "       -1.11039019e-01,  2.98658270e+01,  3.80090707e-01, -1.33492597e+00,\n",
      "       -4.17297766e-01, -4.18151046e-01, -1.98376347e-01,  9.57355217e+00,\n",
      "        2.88518279e-01, -2.09759952e+00, -3.49410903e+01, -2.49245202e-01,\n",
      "       -1.09645635e-01,  3.10164916e+00,  6.45153310e+00, -4.76589351e-01,\n",
      "       -2.30270301e-02,  1.81604810e+00,  3.65071766e-03, -2.55747189e-01,\n",
      "       -2.45373992e+00, -3.03078990e-02,  7.11939212e-02,  1.42673325e+00,\n",
      "        7.37112818e+00, -3.01814814e+11,  3.00667530e-01,  4.09586454e-01,\n",
      "       -9.52267247e-01, -1.69205051e+00]), -105134772099.56651) \n",
      "\n",
      "Ridge\n",
      "alpha =  1.0 0.8141707512221554 [array([ 0.00000000e+00, -1.80126825e+00, -6.60162651e-01, -9.41664813e-01,\n",
      "        3.84437465e-01, -4.85239650e-01,  2.07173654e-01, -2.80783630e-01,\n",
      "       -2.29763941e-01, -4.01051331e-02, -4.49643072e-01, -6.69157702e-01,\n",
      "       -1.02759329e-01,  1.86120447e-01,  1.51066504e-01,  3.56669370e-01,\n",
      "        4.81972232e-02, -3.81050256e-01, -1.39331351e-01, -1.06542332e-01,\n",
      "        1.41369564e-01,  2.42727539e-01,  2.18650548e-02,  7.13346716e-01,\n",
      "       -8.36747180e-02,  1.01204858e+00, -1.48039398e-01, -4.36667713e-01,\n",
      "       -8.31740747e-03,  8.57615901e-01,  4.19764727e-01, -2.77032797e-02,\n",
      "        5.59850783e-01, -3.23556407e-02, -8.41037196e-02,  1.83092897e-01,\n",
      "       -2.06290530e-02,  2.26506728e-01,  4.58024418e-02,  9.65945299e-03,\n",
      "        3.96100671e-01,  9.19562991e-02, -1.46505743e-01,  8.56583646e-02,\n",
      "       -3.06146768e-01, -1.81257546e-01,  5.07726754e-02,  8.13356644e-02,\n",
      "        1.78688470e-01,  6.98186325e-02, -1.99420460e-01, -2.06702646e-01,\n",
      "        9.50324086e-03, -1.34961125e-01, -1.40100412e-01, -1.83288043e-01,\n",
      "       -2.83889314e-02, -8.36809320e-03, -5.46512395e-02,  1.05290030e-02,\n",
      "       -1.37179862e-02, -2.46964914e-01, -1.32630354e-01, -2.04537169e-02,\n",
      "        4.78680261e-01, -1.26114104e-01,  9.44739220e-04,  6.65904535e-01,\n",
      "       -3.02817381e-03, -3.51284682e-02, -3.72114416e-01, -2.19395973e-03,\n",
      "        1.33593414e-02,  5.38888119e-02, -2.54178459e-01,  1.64683419e-01,\n",
      "       -1.12094552e-01, -3.19436648e-01,  6.92960257e-02,  3.46151152e-03,\n",
      "       -1.31762725e-01, -2.33796321e-01, -9.43012816e-03, -3.86080635e-01,\n",
      "        4.08323650e-02,  7.31694749e-02, -2.15337573e-02,  2.20389252e-02,\n",
      "       -5.25671272e-02,  1.45225529e-03, -8.38904922e-03,  1.74408467e-01,\n",
      "        2.76819454e-01,  7.90805851e-02, -3.59105481e-02,  3.09915731e-01,\n",
      "        1.41384708e-01,  1.83545909e-02,  1.93135347e-01, -1.41317063e-01,\n",
      "       -8.46134804e-02, -2.79667759e-02, -7.99664769e-02, -1.70373709e-01,\n",
      "        2.11743056e-02, -5.46515630e-02, -1.59610718e-01, -1.35004714e-01,\n",
      "       -2.15485823e-01, -5.29384039e-03,  9.46575105e-03, -7.73772459e-02,\n",
      "       -2.02909656e-02, -2.19744869e-01,  1.82516017e-02,  2.38663037e-01,\n",
      "        2.24526814e-02, -2.98147717e-02,  1.13018833e-01, -2.71151093e-01,\n",
      "       -7.10581962e-02, -5.88760050e-03,  1.40610259e-01,  1.90704796e-01,\n",
      "        1.09675744e-01,  6.86276028e-02]), -0.20470673821911856] \n",
      "\n"
     ]
    },
    {
     "data": {
      "image/png": "[encoded data removed]",
      "text/plain": [
       "<Figure size 432x288 with 1 Axes>"
      ]
     },
     "metadata": {
      "needs_background": "light"
     },
     "output_type": "display_data"
    },
    {
     "name": "stdout",
     "output_type": "stream",
     "text": [
      "Lasso\n",
      "alpha =  0.010000000000000004 0.7790112520724576 [array([ 0.00000000e+00, -1.18754169e+00, -7.57446211e-02, -4.77282192e-01,\n",
      "        1.37567015e-01, -4.55516406e-01,  0.00000000e+00, -3.75385023e-01,\n",
      "       -3.62814245e-01, -0.00000000e+00, -1.13479821e-01, -0.00000000e+00,\n",
      "        0.00000000e+00,  0.00000000e+00,  0.00000000e+00,  0.00000000e+00,\n",
      "        0.00000000e+00, -0.00000000e+00, -0.00000000e+00,  0.00000000e+00,\n",
      "       -0.00000000e+00,  6.97959086e-02,  0.00000000e+00,  2.72217124e-01,\n",
      "        0.00000000e+00,  2.13691384e-01,  1.79853432e-01, -0.00000000e+00,\n",
      "       -0.00000000e+00,  0.00000000e+00,  3.41979501e-01,  0.00000000e+00,\n",
      "        0.00000000e+00, -3.04558229e-02, -0.00000000e+00,  0.00000000e+00,\n",
      "       -8.68593298e-02,  0.00000000e+00, -2.53781836e-02, -0.00000000e+00,\n",
      "       -0.00000000e+00, -0.00000000e+00, -0.00000000e+00, -0.00000000e+00,\n",
      "       -0.00000000e+00, -0.00000000e+00,  0.00000000e+00,  0.00000000e+00,\n",
      "       -0.00000000e+00, -3.75151984e-02, -0.00000000e+00, -2.86756159e-02,\n",
      "        5.07476687e-02, -3.72620549e-02,  0.00000000e+00, -0.00000000e+00,\n",
      "       -8.60131091e-03, -0.00000000e+00, -2.90676612e-02, -0.00000000e+00,\n",
      "       -2.67352979e-02, -1.05529058e-01,  1.07942710e-03, -0.00000000e+00,\n",
      "        0.00000000e+00, -5.26256995e-02,  0.00000000e+00, -0.00000000e+00,\n",
      "       -2.79282344e-03, -0.00000000e+00,  3.51707771e-02, -0.00000000e+00,\n",
      "       -0.00000000e+00,  6.57999908e-02, -7.50835376e-02,  0.00000000e+00,\n",
      "       -9.40882727e-03, -0.00000000e+00, -0.00000000e+00, -0.00000000e+00,\n",
      "       -0.00000000e+00, -2.02371544e-01,  0.00000000e+00, -1.57314596e-01,\n",
      "       -0.00000000e+00, -0.00000000e+00,  0.00000000e+00, -0.00000000e+00,\n",
      "       -0.00000000e+00, -2.18069368e-02,  1.43236958e-02,  5.70889796e-02,\n",
      "        1.61060493e-02,  5.60705966e-03, -2.90854235e-02, -0.00000000e+00,\n",
      "        0.00000000e+00,  0.00000000e+00,  0.00000000e+00,  0.00000000e+00,\n",
      "       -1.50933041e-02,  0.00000000e+00,  0.00000000e+00,  0.00000000e+00,\n",
      "       -0.00000000e+00,  0.00000000e+00,  0.00000000e+00,  0.00000000e+00,\n",
      "       -0.00000000e+00,  3.77518009e-03, -0.00000000e+00,  1.85985995e-02,\n",
      "        5.22839638e-03, -0.00000000e+00,  0.00000000e+00,  0.00000000e+00,\n",
      "        0.00000000e+00,  1.21379802e-02, -0.00000000e+00, -0.00000000e+00,\n",
      "       -1.49289799e-02, -0.00000000e+00,  5.07388554e-02, -5.25511460e-03,\n",
      "        0.00000000e+00, -7.86179944e-04]), -0.12229439102250168] \n",
      "\n"
     ]
    },
    {
     "data": {
      "image/png": "[encoded data removed]",
      "text/plain": [
       "<Figure size 432x288 with 1 Axes>"
      ]
     },
     "metadata": {
      "needs_background": "light"
     },
     "output_type": "display_data"
    }
   ],
   "source": [
    "analyse(DataSet = SoundRaw.values, deg = 4, ridge = [1, 1000], lasso = [0.01, 1])\n",
    "# Warning, который я подавил для Lasso метода:\n",
    "# ConvergenceWarning: Objective did not converge. You might want to increase the number of iterations. \n",
    "# Fitting data with very small alpha may cause precision problems."
   ]
  },
  {
   "cell_type": "markdown",
   "metadata": {},
   "source": [
    "Лучший результат, который мы получили, это R<sup>2</sup>-score равный 0.814. Он получен с помощью Ridge регрессии при alpha = 1 и 4й степени полинома."
   ]
  },
  {
   "cell_type": "code",
   "execution_count": null,
   "metadata": {},
   "outputs": [],
   "source": []
  }
 ],
 "metadata": {
  "kernelspec": {
   "display_name": "Python 3",
   "language": "python",
   "name": "python3"
  },
  "language_info": {
   "codemirror_mode": {
    "name": "ipython",
    "version": 3
   },
   "file_extension": ".py",
   "mimetype": "text/x-python",
   "name": "python",
   "nbconvert_exporter": "python",
   "pygments_lexer": "ipython3",
   "version": "3.7.0"
  }
 },
 "nbformat": 4,
 "nbformat_minor": 2
}
