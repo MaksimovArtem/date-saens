{
 "cells": [
  {
   "cell_type": "code",
   "execution_count": 5,
   "metadata": {},
   "outputs": [],
   "source": [
    "import numpy as np\n",
    "from sklearn.linear_model import LinearRegression\n",
    "from sklearn.preprocessing import PolynomialFeatures \n",
    "import matplotlib.pyplot as plt\n",
    "\n"
   ]
  },
  {
   "cell_type": "code",
   "execution_count": 30,
   "metadata": {},
   "outputs": [],
   "source": [
    "n = 20\n",
    "x = np.zeros((n,))\n",
    "y = np.zeros((n,))\n",
    "#for i in range(n):\n",
    "   #x[i] = np.random.random() * 6 - 3# от -1 до 1\n",
    "x=np.random.random(size=(n, )) * 6 - 3\n",
    "x = np.sort(x, axis = 0)"
   ]
  },
  {
   "cell_type": "code",
   "execution_count": 31,
   "metadata": {},
   "outputs": [
    {
     "name": "stdout",
     "output_type": "stream",
     "text": [
      "[-561.44899024 -219.4566908  -292.54130157 -201.50454433 -226.40658401\n",
      " -157.8081176  -159.62026114  -91.93041429  -14.78495047  102.9441514\n",
      "   17.4641984    18.82644767  -50.74870282   72.31424729   98.22328193\n",
      "  -76.12221049   73.13481926  272.06761267  106.45870567  265.51076428]\n"
     ]
    }
   ],
   "source": [
    "y = 3 - 3.5*x - 4.2*x**2 + 3.67*x**3 - 2.11*x**4 + 1.8*x**5 + np.random.normal(0,50,n)#ошибка из норм распредления, 50 - std"
   ]
  },
  {
   "cell_type": "code",
   "execution_count": 32,
   "metadata": {},
   "outputs": [
    {
     "data": {
      "text/plain": [
       "[<matplotlib.lines.Line2D at 0x7f4c868c9358>]"
      ]
     },
     "execution_count": 32,
     "metadata": {},
     "output_type": "execute_result"
    },
    {
     "data": {
      "image/png": "[encoded data removed]",
      "text/plain": [
       "<Figure size 432x288 with 1 Axes>"
      ]
     },
     "metadata": {
      "needs_background": "light"
     },
     "output_type": "display_data"
    }
   ],
   "source": [
    "x = x.reshape(-1,1)\n",
    "plt.plot(x,y,'o', markersize=3)\n",
    "#plt.show()"
   ]
  },
  {
   "cell_type": "code",
   "execution_count": 33,
   "metadata": {},
   "outputs": [
    {
     "data": {
      "text/plain": [
       "LinearRegression(copy_X=True, fit_intercept=True, n_jobs=None,\n",
       "         normalize=False)"
      ]
     },
     "execution_count": 33,
     "metadata": {},
     "output_type": "execute_result"
    }
   ],
   "source": [
    "deg = 2\n",
    "pol = PolynomialFeatures(degree=deg)\n",
    "x_pol = pol.fit_transform(X = x)\n",
    "model = LinearRegression()#fit_intercept - учитывать b0 или нет\n",
    "model.fit(x_pol,y)#обучить модель\n"
   ]
  },
  {
   "cell_type": "code",
   "execution_count": 38,
   "metadata": {},
   "outputs": [
    {
     "name": "stdout",
     "output_type": "stream",
     "text": [
      "[  0.          84.28779313 -20.67551455] 64.89636323693438\n"
     ]
    },
    {
     "data": {
      "image/png": "[encoded data removed]",
      "text/plain": [
       "<Figure size 432x288 with 1 Axes>"
      ]
     },
     "metadata": {
      "needs_background": "light"
     },
     "output_type": "display_data"
    }
   ],
   "source": [
    "regression_x = np.linspace(x.min(), x.max(), 1001)#1000 равномерных интервалов\n",
    "regression_x = regression_x.reshape(-1,1)\n",
    "regression_x_pol = pol.transform(X = regression_x)\n",
    "regression_y = model.predict(regression_x_pol)\n",
    "\n",
    "plt.plot(regression_x,regression_y)\n",
    "print(model.coef_,model.intercept_)\n",
    "plt.show()"
   ]
  },
  {
   "cell_type": "markdown",
   "metadata": {},
   "source": [
    "?????????????????????????????????????????????????????/\n",
    "где точки лул?"
   ]
  },
  {
   "cell_type": "code",
   "execution_count": 51,
   "metadata": {},
   "outputs": [
    {
     "name": "stdout",
     "output_type": "stream",
     "text": [
      "[-3.42739539e-103  5.52753135e-106  6.79526284e-110  5.94830118e-118\n",
      " -5.03436949e-120 -1.05286093e-120  0.00000000e+000  2.42285075e-122\n",
      "  8.26934227e-126 -3.63135488e-122  3.58175956e-122  3.68866775e-123\n",
      "  9.74045600e-124  8.24405630e-124  6.96877973e-124  5.88561850e-124\n",
      "  4.96778230e-124  4.19129562e-124  1.01613474e-123  8.56881492e-124\n",
      "  2.51348132e-124  2.11904695e-124  1.78637093e-124  1.50589827e-124\n",
      "  1.26942037e-124  1.07132984e-124  9.00198380e-125  7.50165316e-125\n",
      "  6.37640519e-125  4.50099190e-125  6.00132253e-125 -8.46127795e-134\n",
      " -1.24972029e-133 -1.84582147e-133 -2.72625573e-133 -4.02664826e-133\n",
      " -5.94730378e-133 -8.78410838e-133 -1.29739938e-132 -1.91625357e-132\n",
      " -2.83026390e-132 -4.18020930e-132 -6.17423675e-132 -9.11833388e-132\n",
      " -1.34731848e-131 -1.98945467e-131 -2.93903788e-131 -4.34628907e-131\n",
      " -6.40112487e-131 -9.46469825e-131 -1.39479764e-130 -2.07227078e-130\n",
      " -3.18810889e-130 -4.46335244e-130 -7.65146132e-130 -1.02019484e-129\n",
      " -2.04038969e-129 -2.04038969e-129  9.38476451e-148  1.56412742e-147\n",
      "  3.12825484e-147  6.25650967e-147  1.12617174e-146  2.25234348e-146\n",
      "  4.50468696e-146  8.50885315e-146  1.70177063e-145  3.40354126e-145\n",
      "  6.80708252e-145  1.04108321e-144  2.24233307e-144  4.80499943e-144\n",
      "  7.68799909e-144  1.66573314e-143  2.81893300e-143  5.63786600e-143\n",
      "  1.12757320e-142  2.05013309e-142  4.10026618e-142  7.38047912e-142\n",
      "  1.47609582e-141  2.95219165e-141  5.24834071e-141  1.04966814e-140\n",
      "  2.09933628e-140  3.67383850e-140  8.92217921e-140  1.15463496e-139\n",
      "  3.14900443e-139  6.71787611e-139  1.34357522e-138  2.68715044e-138\n",
      " -1.50156232e-146 -3.00312464e-146 -1.00104155e-145 -1.60166648e-145\n",
      " -3.20333295e-145 -6.40666590e-145 -1.28133318e-144 -2.56266636e-144\n",
      " -1.02506654e-143 -1.53759982e-143 -2.05013309e-143 -4.10026618e-143\n",
      " -1.64010647e-142 -2.46015971e-142 -4.92031941e-142 -1.31208518e-141\n",
      " -1.96812777e-141 -3.93625553e-141 -7.87251106e-141 -2.09933628e-140\n",
      " -6.29800885e-140 -1.67946903e-139 -3.35893805e-139 -6.71787611e-139\n",
      " -1.01421227e-152 -3.66914318e-152 -3.72465823e-153  1.62197903e-151\n",
      " -3.28980533e-151  5.91160618e-152 -1.50017380e-151  3.76728093e-151\n",
      " -9.48464491e-151 -1.71702388e-149 -4.50202288e-149  9.31003545e-149\n",
      " -3.78033458e-149 -5.30715733e-148 -2.36428702e-148 -1.90245079e-147\n",
      " -6.49622140e-147  3.79491638e-147 -4.95700847e-146 -5.61539607e-146\n",
      " -5.95882264e-146  1.51289548e-145 -3.75811156e-145 -4.17923716e-144\n",
      "  2.72303014e-144 -2.47187193e-143 -7.65264765e-143 -4.38566635e-143\n",
      " -9.58105882e-143 -8.94694151e-143 -6.05850846e-142 -1.10253862e-141\n",
      " -6.41260997e-141 -1.13708276e-140 -3.17478855e-141  2.65290912e-141\n",
      " -1.52845447e-139  1.83128430e-140  4.76074810e-140  1.26123914e-139\n",
      "  3.28184304e-139  8.70097253e-139  2.26479351e-138  6.01777383e-138\n",
      "  1.56155482e-137  4.14776657e-137  1.07675912e-136  2.86436785e-136\n",
      "  7.43072795e-136  1.97686106e-135  5.12256022e-135  1.36445594e-134\n",
      "  3.53099392e-134  9.41852954e-134  2.43362958e-133  6.50207063e-133\n",
      "  1.67707332e-132  4.48922018e-132  1.15552950e-131  3.09989293e-131\n",
      "  7.96033781e-131  2.14084795e-130  5.48266741e-130  1.47875312e-129\n",
      "  3.77527854e-129  1.02160822e-128  2.59888732e-128  7.05928601e-128\n",
      "  1.78850285e-127  4.87904044e-127  1.23036836e-126  3.37299391e-126\n",
      "  8.46058214e-126  2.33246442e-125  5.81510746e-125  1.61340762e-124\n",
      "  3.99462373e-124  1.11638618e-123  2.74231974e-123  7.72747274e-123\n",
      "  1.88122912e-122  5.35087522e-122  1.28942807e-121  3.70669168e-121\n",
      "  8.82931655e-121  2.56880299e-120  6.03898484e-120  1.78100262e-119\n",
      "  4.12505238e-119  1.23534707e-118  2.81339952e-118  8.57236391e-118\n",
      "  1.91541666e-117  5.95097114e-117  1.30135710e-116  4.13268419e-116\n",
      "  8.82021620e-116  2.87073693e-115  5.96121929e-115  1.99443092e-114\n",
      "  4.01562627e-114  1.38558149e-113  2.69445991e-113  9.62323390e-113\n",
      "  1.79965849e-112  6.67934637e-112  1.19542762e-111  4.63092902e-111\n",
      "  7.88904736e-111  3.20501481e-110  5.16530046e-110  2.21235413e-109\n",
      "  3.34988239e-109  1.52128900e-108  2.14728631e-108  1.04038282e-107\n",
      "  1.35670512e-107  7.06015907e-107  8.41769140e-107  4.73877765e-106\n",
      "  5.10185677e-106  3.13048491e-105  2.99939687e-105  2.02003097e-104\n",
      "  1.69081538e-104  1.25710909e-103  8.98082311e-104  7.36626488e-103\n",
      "  4.35122622e-103  3.85069725e-102  1.79880227e-102  1.50878350e-101\n",
      "  5.14394737e-102 -1.83574188e-102 -6.31924902e-103] -44.53845026452339\n"
     ]
    },
    {
     "data": {
      "image/png": "[encoded data removed]",
      "text/plain": [
       "<Figure size 432x288 with 1 Axes>"
      ]
     },
     "metadata": {
      "needs_background": "light"
     },
     "output_type": "display_data"
    }
   ],
   "source": [
    "import numpy as np\n",
    "from sklearn.linear_model import LinearRegression, Ridge, Lasso, ElasticNet#У всех методов есть вариант с CrossValidation - LassoCV\n",
    "from sklearn.preprocessing import PolynomialFeatures\n",
    "import matplotlib.pyplot as plt\n",
    "\n",
    "n = 20\n",
    "x = np.zeros((n, ))\n",
    "y = np.zeros((n, ))\n",
    "\n",
    "x = np.random.random(size = (n, )) * 6 - 3\n",
    "x = np.sort(x, axis=0)\n",
    "\n",
    "y = 3 - 3.5*x - 4.2*x**2 + 3.67*x**3 - 2.11*x**4 + 1.8*x**5 + np.random.normal(0, 50, n) \n",
    "x = x.reshape(-1, 1)\n",
    "\n",
    "plt.plot(x, y, 'o', markersize=3)\n",
    "\n",
    "\n",
    "deg = 250\n",
    "pol = PolynomialFeatures(degree=deg)\n",
    "x_pol = pol.fit_transform(X=x)\n",
    "\n",
    "model = LinearRegression()\n",
    "#model = Ridge(alpha=1)\n",
    "#model = Lasso(alpha = 0.1)\n",
    "model.fit(x_pol, y)\n",
    "\n",
    "regression_x = np.linspace(x.min(), x.max(), 1001)\n",
    "regression_x = regression_x.reshape(-1, 1)\n",
    "regression_x_pol = pol.transform(X=regression_x)\n",
    "regression_y = model.predict(regression_x_pol)\n",
    "\n",
    "plt.plot(regression_x, regression_y)\n",
    "plt.ylim(-500,200)\n",
    "print(model.coef_, model.intercept_)\n",
    "plt.show()"
   ]
  },
  {
   "cell_type": "markdown",
   "metadata": {},
   "source": [
    "регрессионная кривая очень далека от реальной кривой в точках, не совпадающих с данными"
   ]
  },
  {
   "cell_type": "markdown",
   "metadata": {},
   "source": [
    "Слишком подогнали модель. Надо 5, а взяли 25. На новых данных предсказание будет отстой"
   ]
  },
  {
   "cell_type": "markdown",
   "metadata": {},
   "source": [
    "Не находит паттерны в данных, а подлаживает себя под данные"
   ]
  },
  {
   "cell_type": "code",
   "execution_count": null,
   "metadata": {},
   "outputs": [],
   "source": []
  }
 ],
 "metadata": {
  "kernelspec": {
   "display_name": "Python 3",
   "language": "python",
   "name": "python3"
  },
  "language_info": {
   "codemirror_mode": {
    "name": "ipython",
    "version": 3
   },
   "file_extension": ".py",
   "mimetype": "text/x-python",
   "name": "python",
   "nbconvert_exporter": "python",
   "pygments_lexer": "ipython3",
   "version": "3.7.0"
  }
 },
 "nbformat": 4,
 "nbformat_minor": 2
}
