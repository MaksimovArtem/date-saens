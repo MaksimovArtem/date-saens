{
 "cells": [
  {
   "cell_type": "code",
   "execution_count": 2,
   "metadata": {},
   "outputs": [],
   "source": [
    "import numpy as np\n",
    "from sklearn.linear_model import LinearRegression\n",
    "from sklearn.preprocessing import PolynomialFeatures \n",
    "import matplotlib.pyplot as plt\n",
    "\n"
   ]
  },
  {
   "cell_type": "code",
   "execution_count": 3,
   "metadata": {},
   "outputs": [],
   "source": [
    "n = 20\n",
    "x = np.zeros((n,))\n",
    "y = np.zeros((n,))\n",
    "#for i in range(n):\n",
    "   #x[i] = np.random.random() * 6 - 3# от -1 до 1\n",
    "x=np.random.random(size=(n, )) * 6 - 3\n",
    "x = np.sort(x, axis = 0)"
   ]
  },
  {
   "cell_type": "code",
   "execution_count": 4,
   "metadata": {},
   "outputs": [],
   "source": [
    "y = 3 - 3.5*x - 4.2*x**2 + 3.67*x**3 - 2.11*x**4 + 1.8*x**5 + np.random.normal(0,50,n)#ошибка из норм распредления, 50 - std"
   ]
  },
  {
   "cell_type": "code",
   "execution_count": 11,
   "metadata": {},
   "outputs": [
    {
     "data": {
      "text/plain": [
       "array([[-2.88552817],\n",
       "       [-2.31103675],\n",
       "       [-2.30972433],\n",
       "       [-1.79372256],\n",
       "       [-1.43679447],\n",
       "       [-1.10738069],\n",
       "       [-0.30662422],\n",
       "       [-0.02991795],\n",
       "       [ 0.62906822],\n",
       "       [ 0.95806036],\n",
       "       [ 1.01511894],\n",
       "       [ 1.03044286],\n",
       "       [ 1.65498642],\n",
       "       [ 1.70978503],\n",
       "       [ 1.88098553],\n",
       "       [ 2.03723668],\n",
       "       [ 2.23579094],\n",
       "       [ 2.51772847],\n",
       "       [ 2.74758247],\n",
       "       [ 2.9924127 ]])"
      ]
     },
     "execution_count": 11,
     "metadata": {},
     "output_type": "execute_result"
    }
   ],
   "source": [
    "x.reshape(-1,1)"
   ]
  },
  {
   "cell_type": "code",
   "execution_count": 10,
   "metadata": {},
   "outputs": [
    {
     "data": {
      "text/plain": [
       "[<matplotlib.lines.Line2D at 0x7f2b3c0f7f60>]"
      ]
     },
     "execution_count": 10,
     "metadata": {},
     "output_type": "execute_result"
    },
    {
     "data": {
      "image/png": "[encoded data removed]",
      "text/plain": [
       "<Figure size 432x288 with 1 Axes>"
      ]
     },
     "metadata": {
      "needs_background": "light"
     },
     "output_type": "display_data"
    }
   ],
   "source": [
    "x = x.reshape(-1,1)\n",
    "plt.plot(x,y,'o', markersize=3)\n",
    "#plt.show()"
   ]
  },
  {
   "cell_type": "code",
   "execution_count": 6,
   "metadata": {},
   "outputs": [
    {
     "data": {
      "text/plain": [
       "LinearRegression(copy_X=True, fit_intercept=True, n_jobs=None,\n",
       "         normalize=False)"
      ]
     },
     "execution_count": 6,
     "metadata": {},
     "output_type": "execute_result"
    }
   ],
   "source": [
    "deg = 2\n",
    "pol = PolynomialFeatures(degree=deg)\n",
    "x_pol = pol.fit_transform(X = x)\n",
    "model = LinearRegression()#fit_intercept - учитывать b0 или нет\n",
    "model.fit(x_pol,y)#обучить модель\n"
   ]
  },
  {
   "cell_type": "code",
   "execution_count": 7,
   "metadata": {},
   "outputs": [
    {
     "data": {
      "text/plain": [
       "-2.8855281671756696"
      ]
     },
     "execution_count": 7,
     "metadata": {},
     "output_type": "execute_result"
    }
   ],
   "source": [
    "x.min()"
   ]
  },
  {
   "cell_type": "code",
   "execution_count": 38,
   "metadata": {},
   "outputs": [
    {
     "name": "stdout",
     "output_type": "stream",
     "text": [
      "[  0.          84.28779313 -20.67551455] 64.89636323693438\n"
     ]
    },
    {
     "data": {
      "image/png": "[encoded data removed]",
      "text/plain": [
       "<Figure size 432x288 with 1 Axes>"
      ]
     },
     "metadata": {
      "needs_background": "light"
     },
     "output_type": "display_data"
    }
   ],
   "source": [
    "regression_x = np.linspace(x.min(), x.max(), 1001)#1000 равномерных интервалов\n",
    "regression_x = regression_x.reshape(-1,1)\n",
    "regression_x_pol = pol.transform(X = regression_x)\n",
    "regression_y = model.predict(regression_x_pol)\n",
    "\n",
    "plt.plot(regression_x,regression_y)\n",
    "print(model.coef_,model.intercept_)\n",
    "plt.show()"
   ]
  },
  {
   "cell_type": "markdown",
   "metadata": {},
   "source": [
    "?????????????????????????????????????????????????????/\n",
    "где точки лул?"
   ]
  },
  {
   "cell_type": "code",
   "execution_count": 8,
   "metadata": {},
   "outputs": [
    {
     "name": "stdout",
     "output_type": "stream",
     "text": [
      "[-1.87611728 -1.87165079 -1.8671843  ...  2.58143922  2.58590571\n",
      "  2.59037219]\n"
     ]
    },
    {
     "data": {
      "image/png": "[encoded data removed]",
      "text/plain": [
       "<Figure size 432x288 with 1 Axes>"
      ]
     },
     "metadata": {
      "needs_background": "light"
     },
     "output_type": "display_data"
    }
   ],
   "source": [
    "import numpy as np\n",
    "from sklearn.linear_model import LinearRegression, Ridge, Lasso, ElasticNet#У всех методов есть вариант с CrossValidation - LassoCV\n",
    "from sklearn.preprocessing import PolynomialFeatures\n",
    "import matplotlib.pyplot as plt\n",
    "\n",
    "n = 5\n",
    "x = np.zeros((n, ))\n",
    "y = np.zeros((n, ))\n",
    "\n",
    "x = np.random.random(size = (n, )) * 6 - 3\n",
    "x = np.sort(x, axis=0)\n",
    "\n",
    "y = 3 - 3.5*x - 4.2*x**2 + 3.67*x**3 - 2.11*x**4 + 1.8*x**5 + np.random.normal(0, 50, n) \n",
    "x = x.reshape(-1, 1)\n",
    "\n",
    "plt.plot(x, y, 'o', markersize=3)\n",
    "\n",
    "\n",
    "deg = 5\n",
    "pol = PolynomialFeatures(degree=deg)\n",
    "x_pol = pol.fit_transform(X=x)\n",
    "\n",
    "model = LinearRegression()\n",
    "#model = Ridge(alpha=1)\n",
    "#model = Lasso(alpha = 0.1)\n",
    "model.fit(x_pol, y)\n",
    "\n",
    "regression_x = np.linspace(x.min(), x.max(), 1001)\n",
    "print(regression_x)\n",
    "regression_x = regression_x.reshape(-1, 1)\n",
    "regression_x_pol = pol.transform(X=regression_x)\n",
    "regression_y = model.predict(regression_x_pol)\n",
    "\n",
    "plt.plot(regression_x,regression_y)\n",
    "plt.ylim(-500,200)\n",
    "#print(model.coef_, model.intercept_)\n",
    "plt.show()"
   ]
  },
  {
   "cell_type": "markdown",
   "metadata": {},
   "source": [
    "регрессионная кривая очень далека от реальной кривой в точках, не совпадающих с данными"
   ]
  },
  {
   "cell_type": "markdown",
   "metadata": {},
   "source": [
    "Слишком подогнали модель. Надо 5, а взяли 25. На новых данных предсказание будет отстой"
   ]
  },
  {
   "cell_type": "markdown",
   "metadata": {},
   "source": [
    "Не находит паттерны в данных, а подлаживает себя под данные"
   ]
  },
  {
   "cell_type": "code",
   "execution_count": null,
   "metadata": {},
   "outputs": [],
   "source": []
  }
 ],
 "metadata": {
  "kernelspec": {
   "display_name": "Python 3",
   "language": "python",
   "name": "python3"
  },
  "language_info": {
   "codemirror_mode": {
    "name": "ipython",
    "version": 3
   },
   "file_extension": ".py",
   "mimetype": "text/x-python",
   "name": "python",
   "nbconvert_exporter": "python",
   "pygments_lexer": "ipython3",
   "version": "3.7.0"
  }
 },
 "nbformat": 4,
 "nbformat_minor": 2
}
